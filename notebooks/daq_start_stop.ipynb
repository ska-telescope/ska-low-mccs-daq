{
 "cells": [
  {
   "cell_type": "markdown",
   "id": "e8e457c3",
   "metadata": {},
   "source": [
    "# Configuring, Starting and Stopping the DAQ\n",
    "\n",
    "A short example in how to configure and start a scan using the daq.\n",
    "\n",
    "## Starting the cluster\n",
    "\n",
    "Part one of the process is making sure the deployment is set up and the pods are in ON state"
   ]
  },
  {
   "cell_type": "code",
   "execution_count": null,
   "id": "2edc87ba",
   "metadata": {},
   "outputs": [],
   "source": [
    "import tango\n",
    "import time\n",
    "import json\n",
    "\n",
    "db = tango.Database()\n",
    "all_devices_strings = db.get_device_exported(\"*\")\n",
    "recheck = False\n",
    "\n",
    "for device_str in all_devices_strings:\n",
    "    device = tango.DeviceProxy(device_str)\n",
    "    if device.state() == tango.DevState.DISABLE:\n",
    "        print(f\"{device_str} is in {device.state()} state, turning it ON\")\n",
    "        device.adminMode = 0\n",
    "        recheck = True\n",
    "    else:\n",
    "        print(f\"{device_str} is in {device.state()} state\")\n",
    "\n",
    "daq = tango.DeviceProxy(\"low-mccs/daqreceiver/ci-1\")"
   ]
  },
  {
   "cell_type": "markdown",
   "id": "4958537c",
   "metadata": {},
   "source": [
    "## Starting a quick scan\n",
    "\n",
    "The MccsDaqReceiver device can be started by calling the Start command on a device proxy.\n",
    "This command accepts a json formatted string as such:"
   ]
  },
  {
   "cell_type": "code",
   "execution_count": null,
   "id": "ed925d1a",
   "metadata": {},
   "outputs": [],
   "source": [
    "setup = {\"modes_to_start\": \"INTEGRATED_CHANNEL_DATA, RAW_DATA\"}\n",
    "daq.Start(json.dumps(setup))"
   ]
  },
  {
   "cell_type": "markdown",
   "id": "aa4b429e",
   "metadata": {},
   "source": [
    "The ``setup`` variable in this case is a dictionary with a key ``\"modes_to_start\"`` and the values\n",
    "``\"INTEGRATED_CHANNEL_DATA, RAW_DATA\"``. The command will then convert the values into an enum list\n",
    "and pass them to the daq client.\n",
    "\n",
    "The following is a list of available modes:\n",
    "\n",
    "- RAW_DATA\n",
    "- CHANNEL_DATA\n",
    "- BEAM_DATA\n",
    "- CONTINUOUS_CHANNEL_DATA\n",
    "- INTEGRATED_BEAM_DATA\n",
    "- INTEGRATED_CHANNEL_DATA\n",
    "- STATION_BEAM_DATA\n",
    "- CORRELATOR_DATA\n",
    "- ANTENNA_BUFFER\n",
    "- RAW_STATION_BEAM\n",
    "\n",
    "Note: RAW_STATION_BEAM will raise an error and reject the command when started alongside other modes.\n",
    "\n",
    "By default, once the Start command has begun, all the data will be saved within a dictionary of form:\n",
    "``/product/eb-id/ska-low-mccs/scan-id/``. Users can change this (and many other configurations) with\n",
    "the ``Configure()`` command:"
   ]
  },
  {
   "cell_type": "markdown",
   "id": "305ae0cb",
   "metadata": {},
   "source": [
    "## Configuring the scan\n",
    "\n",
    "The configure command can be run like the Start command:"
   ]
  },
  {
   "cell_type": "code",
   "execution_count": null,
   "id": "b25b411c",
   "metadata": {},
   "outputs": [],
   "source": [
    "\n",
    "configs = {'directory': 'user/path'}\n",
    "daq.Configure(json.dumps(configs))"
   ]
  },
  {
   "cell_type": "markdown",
   "id": "684e06d0",
   "metadata": {},
   "source": [
    "## Stopping the scan\n",
    "\n",
    "To stop a scan simply use the Stop command. Make sure to then follow up with a MarkDone() command to signal that the scan is finished once the command is done:"
   ]
  },
  {
   "cell_type": "code",
   "execution_count": null,
   "id": "8510668a",
   "metadata": {},
   "outputs": [],
   "source": [
    "daq.Stop()\n",
    "time.sleep(10)\n",
    "daq.MarkDone()"
   ]
  },
  {
   "cell_type": "markdown",
   "id": "03435fbd",
   "metadata": {},
   "source": [
    "## Changing the DLM directory tag\n",
    "\n",
    "Users can change the tag used by calling the configure command and specifying a new tag as such:"
   ]
  },
  {
   "cell_type": "code",
   "execution_count": null,
   "id": "1c7ff963",
   "metadata": {},
   "outputs": [],
   "source": [
    "config = {\"directory_tag\": \"_in_progress\"}\n",
    "daq.Configure(json.dumps(config))\n",
    "daq.Start(json.dumps(setup))\n",
    "time.sleep(10)\n",
    "daq.Stop()\n",
    "daq.MarkDone()"
   ]
  }
 ],
 "metadata": {
  "language_info": {
   "name": "python"
  }
 },
 "nbformat": 4,
 "nbformat_minor": 5
}
